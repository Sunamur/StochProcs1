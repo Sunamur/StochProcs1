{
 "cells": [
  {
   "cell_type": "code",
   "execution_count": 1,
   "metadata": {},
   "outputs": [],
   "source": [
    "import QuantLib as ql\n",
    "import pandas as pd\n",
    "import matplotlib.pyplot as plt\n",
    "import numpy as np\n",
    "%matplotlib inline"
   ]
  },
  {
   "cell_type": "code",
   "execution_count": 2,
   "metadata": {},
   "outputs": [],
   "source": [
    "rub_irs_curve_maturity = [\"3M\",\"6M\",\"9M\",\"1Y\",\"2Y\",\"3Y\",\n",
    "                          \"4Y\",\"5Y\",\"6Y\",\"7Y\",\"8Y\",\"9Y\",\"10Y\",\"12Y\",\"15Y\",]\n",
    "\n",
    "rub_irs_curve_maturity = [ql.Period(rub_irs_curve_maturity[i]) \\\n",
    "                          for i in range(len(rub_irs_curve_maturity))]\n",
    "\n",
    "rub_irs_curve_dsrate = [8.51987757,8.68611319,8.90460383,9.04938647,9.16620517,9.16277249,\n",
    "                        9.119128,9.06260294,9.01015779,8.95942704,8.91830151,8.87442665,\n",
    "                        8.83969915,8.8362406,8.79850223,]\n",
    "\n",
    "usd_fra_curve_maturity = [\"3M\",\"6M\",\"9M\",\"12M\",\"1Y3M\",\"1Y6M\",\n",
    "                          \"1Y9M\",\"2Y\",\"2Y3M\",\"2Y6M\",\"2Y9M\",\n",
    "                          \"3Y\",\"3Y3M\",\"4Y\",\"5Y\",\"6Y\",\"7Y\",\"8Y\",\n",
    "                          \"9Y\",\"10Y\",\"11Y\",\"12Y\",\"15Y\",\"20Y\",\"25Y\",\"30Y\"]\n",
    "\n",
    "usd_fra_curve_maturity = [ql.Period(usd_fra_curve_maturity[i]) \\\n",
    "                          for i in range(len(usd_fra_curve_maturity))]\n",
    "\n",
    "usd_fra_curve_dsrate = [2.84253062,2.80778295,2.7947691,2.78672186,2.78148933,2.76474858,\n",
    "                        2.74385753,2.72299332,2.70750966,2.69278142,2.68063008,2.67150303,\n",
    "                        2.66686195,2.66005416,2.67045368,2.68499512,2.70525985,2.72994097,\n",
    "                        2.75619769,2.78172399,2.804673,2.82275184,2.857914,2.87560338,\n",
    "                        2.86786144,2.85316361]"
   ]
  },
  {
   "cell_type": "code",
   "execution_count": 3,
   "metadata": {},
   "outputs": [],
   "source": [
    "rub = pd.DataFrame(list(zip(rub_irs_curve_maturity, rub_irs_curve_dsrate)),\n",
    "             columns=[\"Maturities\",\"Curve\"],\n",
    "             index=['']*len(rub_irs_curve_dsrate))\n",
    "\n",
    "usd = pd.DataFrame(list(zip(usd_fra_curve_maturity, usd_fra_curve_dsrate)),\n",
    "             columns=[\"Maturities\",\"Curve\"],\n",
    "             index=['']*len(usd_fra_curve_dsrate))"
   ]
  },
  {
   "cell_type": "code",
   "execution_count": 4,
   "metadata": {},
   "outputs": [
    {
     "data": {
      "text/html": [
       "<div>\n",
       "<style scoped>\n",
       "    .dataframe tbody tr th:only-of-type {\n",
       "        vertical-align: middle;\n",
       "    }\n",
       "\n",
       "    .dataframe tbody tr th {\n",
       "        vertical-align: top;\n",
       "    }\n",
       "\n",
       "    .dataframe thead th {\n",
       "        text-align: right;\n",
       "    }\n",
       "</style>\n",
       "<table border=\"1\" class=\"dataframe\">\n",
       "  <thead>\n",
       "    <tr style=\"text-align: right;\">\n",
       "      <th></th>\n",
       "      <th>Maturities</th>\n",
       "      <th>Curve</th>\n",
       "    </tr>\n",
       "  </thead>\n",
       "  <tbody>\n",
       "    <tr>\n",
       "      <td></td>\n",
       "      <td>3M</td>\n",
       "      <td>8.519878</td>\n",
       "    </tr>\n",
       "    <tr>\n",
       "      <td></td>\n",
       "      <td>6M</td>\n",
       "      <td>8.686113</td>\n",
       "    </tr>\n",
       "    <tr>\n",
       "      <td></td>\n",
       "      <td>9M</td>\n",
       "      <td>8.904604</td>\n",
       "    </tr>\n",
       "    <tr>\n",
       "      <td></td>\n",
       "      <td>1Y</td>\n",
       "      <td>9.049386</td>\n",
       "    </tr>\n",
       "    <tr>\n",
       "      <td></td>\n",
       "      <td>2Y</td>\n",
       "      <td>9.166205</td>\n",
       "    </tr>\n",
       "  </tbody>\n",
       "</table>\n",
       "</div>"
      ],
      "text/plain": [
       " Maturities     Curve\n",
       "         3M  8.519878\n",
       "         6M  8.686113\n",
       "         9M  8.904604\n",
       "         1Y  9.049386\n",
       "         2Y  9.166205"
      ]
     },
     "execution_count": 4,
     "metadata": {},
     "output_type": "execute_result"
    }
   ],
   "source": [
    "rub.head()"
   ]
  },
  {
   "cell_type": "code",
   "execution_count": 5,
   "metadata": {},
   "outputs": [
    {
     "data": {
      "text/html": [
       "<div>\n",
       "<style scoped>\n",
       "    .dataframe tbody tr th:only-of-type {\n",
       "        vertical-align: middle;\n",
       "    }\n",
       "\n",
       "    .dataframe tbody tr th {\n",
       "        vertical-align: top;\n",
       "    }\n",
       "\n",
       "    .dataframe thead th {\n",
       "        text-align: right;\n",
       "    }\n",
       "</style>\n",
       "<table border=\"1\" class=\"dataframe\">\n",
       "  <thead>\n",
       "    <tr style=\"text-align: right;\">\n",
       "      <th></th>\n",
       "      <th>Maturities</th>\n",
       "      <th>Curve</th>\n",
       "    </tr>\n",
       "  </thead>\n",
       "  <tbody>\n",
       "    <tr>\n",
       "      <td></td>\n",
       "      <td>3M</td>\n",
       "      <td>2.842531</td>\n",
       "    </tr>\n",
       "    <tr>\n",
       "      <td></td>\n",
       "      <td>6M</td>\n",
       "      <td>2.807783</td>\n",
       "    </tr>\n",
       "    <tr>\n",
       "      <td></td>\n",
       "      <td>9M</td>\n",
       "      <td>2.794769</td>\n",
       "    </tr>\n",
       "    <tr>\n",
       "      <td></td>\n",
       "      <td>1Y</td>\n",
       "      <td>2.786722</td>\n",
       "    </tr>\n",
       "    <tr>\n",
       "      <td></td>\n",
       "      <td>1Y3M</td>\n",
       "      <td>2.781489</td>\n",
       "    </tr>\n",
       "  </tbody>\n",
       "</table>\n",
       "</div>"
      ],
      "text/plain": [
       " Maturities     Curve\n",
       "         3M  2.842531\n",
       "         6M  2.807783\n",
       "         9M  2.794769\n",
       "         1Y  2.786722\n",
       "       1Y3M  2.781489"
      ]
     },
     "execution_count": 5,
     "metadata": {},
     "output_type": "execute_result"
    }
   ],
   "source": [
    "usd.head()"
   ]
  },
  {
   "cell_type": "markdown",
   "metadata": {},
   "source": [
    "## Кривые ставок процента для поиска цены валютных деривативов"
   ]
  },
  {
   "cell_type": "code",
   "execution_count": 6,
   "metadata": {},
   "outputs": [],
   "source": [
    "calc_date = ql.Date(1, 1, 2019)\n",
    "ql.Settings.instance().evaluationDate = calc_date"
   ]
  },
  {
   "cell_type": "code",
   "execution_count": 7,
   "metadata": {},
   "outputs": [],
   "source": [
    "calendar = ql.UnitedStates()\n",
    "business_convention = ql.Unadjusted\n",
    "day_count = ql.Thirty360()\n",
    "end_of_month = True\n",
    "settlement_days = 0\n",
    "face_amount = 100\n",
    "coupon_frequency = ql.Period(ql.Semiannual)\n",
    "settlement_days = 0"
   ]
  },
  {
   "cell_type": "code",
   "execution_count": 8,
   "metadata": {},
   "outputs": [],
   "source": [
    "def get_spot_rates( yieldcurve, day_count,\n",
    "                   calendar=ql.UnitedStates(), months=121):\n",
    "    spots = []\n",
    "    tenors = []\n",
    "    ref_date = yieldcurve.referenceDate()\n",
    "    calc_date = ref_date\n",
    "    for month in range(0, months):\n",
    "        yrs = month/12.0\n",
    "        d = calendar.advance(ref_date, ql.Period(month, ql.Months))\n",
    "        compounding = ql.Compounded\n",
    "        freq = ql.Semiannual\n",
    "        zero_rate = yieldcurve.zeroRate(yrs, compounding, freq)\n",
    "        tenors.append(yrs)\n",
    "        eq_rate = zero_rate.equivalentRate(\n",
    "            day_count,compounding,freq,calc_date,d).rate()\n",
    "        spots.append(100*eq_rate)\n",
    "        \n",
    "    return pd.DataFrame(list(zip(tenors, spots)), columns=[\"Maturities\",\"Curve\"],\n",
    "                     index=['']*len(tenors))"
   ]
  },
  {
   "cell_type": "markdown",
   "metadata": {},
   "source": [
    "### Rub"
   ]
  },
  {
   "cell_type": "code",
   "execution_count": 9,
   "metadata": {},
   "outputs": [],
   "source": [
    "bond_helpers = []\n",
    "for r, m in zip(rub_irs_curve_dsrate, rub_irs_curve_maturity):\n",
    "            termination_date = calc_date + m\n",
    "            schedule = ql.Schedule(calc_date,\n",
    "                                   termination_date,\n",
    "                                   coupon_frequency,\n",
    "                                   calendar,\n",
    "                                   business_convention,\n",
    "                                   business_convention,\n",
    "                                   ql.DateGeneration.Backward,\n",
    "                                   end_of_month)\n",
    "            bond_helper = ql.FixedRateBondHelper(\n",
    "                ql.QuoteHandle(ql.SimpleQuote(face_amount)),\n",
    "                settlement_days,\n",
    "                face_amount,\n",
    "                schedule,\n",
    "                [r/100.0],\n",
    "                day_count,\n",
    "                business_convention)\n",
    "            bond_helpers.append(bond_helper)"
   ]
  },
  {
   "cell_type": "code",
   "execution_count": 10,
   "metadata": {},
   "outputs": [],
   "source": [
    "rate_helpers = bond_helpers"
   ]
  },
  {
   "cell_type": "code",
   "execution_count": 11,
   "metadata": {},
   "outputs": [
    {
     "data": {
      "text/html": [
       "<div>\n",
       "<style scoped>\n",
       "    .dataframe tbody tr th:only-of-type {\n",
       "        vertical-align: middle;\n",
       "    }\n",
       "\n",
       "    .dataframe tbody tr th {\n",
       "        vertical-align: top;\n",
       "    }\n",
       "\n",
       "    .dataframe thead th {\n",
       "        text-align: right;\n",
       "    }\n",
       "</style>\n",
       "<table border=\"1\" class=\"dataframe\">\n",
       "  <thead>\n",
       "    <tr style=\"text-align: right;\">\n",
       "      <th></th>\n",
       "      <th>Maturities</th>\n",
       "      <th>Curve</th>\n",
       "    </tr>\n",
       "  </thead>\n",
       "  <tbody>\n",
       "    <tr>\n",
       "      <td></td>\n",
       "      <td>9.666667</td>\n",
       "      <td>8.781463</td>\n",
       "    </tr>\n",
       "    <tr>\n",
       "      <td></td>\n",
       "      <td>9.750000</td>\n",
       "      <td>8.777620</td>\n",
       "    </tr>\n",
       "    <tr>\n",
       "      <td></td>\n",
       "      <td>9.833333</td>\n",
       "      <td>8.773776</td>\n",
       "    </tr>\n",
       "    <tr>\n",
       "      <td></td>\n",
       "      <td>9.916667</td>\n",
       "      <td>8.769933</td>\n",
       "    </tr>\n",
       "    <tr>\n",
       "      <td></td>\n",
       "      <td>10.000000</td>\n",
       "      <td>8.766090</td>\n",
       "    </tr>\n",
       "  </tbody>\n",
       "</table>\n",
       "</div>"
      ],
      "text/plain": [
       "  Maturities     Curve\n",
       "    9.666667  8.781463\n",
       "    9.750000  8.777620\n",
       "    9.833333  8.773776\n",
       "    9.916667  8.769933\n",
       "   10.000000  8.766090"
      ]
     },
     "execution_count": 11,
     "metadata": {},
     "output_type": "execute_result"
    }
   ],
   "source": [
    "yc_linearzero = ql.PiecewiseLinearZero(\n",
    "    calc_date,rate_helpers,day_count)\n",
    "yc_cubiczero = ql.PiecewiseCubicZero(calc_date,\n",
    "                                     rate_helpers,day_count)\n",
    "splz = get_spot_rates(yc_linearzero, day_count)\n",
    "spcz = get_spot_rates(yc_cubiczero, day_count)\n",
    "splz.tail()"
   ]
  },
  {
   "cell_type": "code",
   "execution_count": 12,
   "metadata": {},
   "outputs": [
    {
     "data": {
      "text/plain": [
       "[<matplotlib.lines.Line2D at 0x12191b310>]"
      ]
     },
     "execution_count": 12,
     "metadata": {},
     "output_type": "execute_result"
    },
    {
     "data": {
      "image/png": "[encoded data removed]",
      "text/plain": [
       "<Figure size 432x288 with 1 Axes>"
      ]
     },
     "metadata": {
      "needs_background": "light"
     },
     "output_type": "display_data"
    }
   ],
   "source": [
    "plt.plot(spcz[\"Maturities\"],spcz[\"Curve\"], label=\"CubicZero\")"
   ]
  },
  {
   "cell_type": "markdown",
   "metadata": {},
   "source": [
    "### Usd"
   ]
  },
  {
   "cell_type": "code",
   "execution_count": 13,
   "metadata": {},
   "outputs": [],
   "source": [
    "bond_helpers = []\n",
    "for r, m in zip(usd_fra_curve_dsrate, usd_fra_curve_maturity):\n",
    "            termination_date = calc_date + m\n",
    "            schedule = ql.Schedule(calc_date,\n",
    "                                   termination_date,\n",
    "                                   coupon_frequency,\n",
    "                                   calendar,\n",
    "                                   business_convention,\n",
    "                                   business_convention,\n",
    "                                   ql.DateGeneration.Backward,\n",
    "                                   end_of_month)\n",
    "            bond_helper = ql.FixedRateBondHelper(\n",
    "                ql.QuoteHandle(ql.SimpleQuote(face_amount)),\n",
    "                settlement_days,\n",
    "                face_amount,\n",
    "                schedule,\n",
    "                [r/100.0],\n",
    "                day_count,\n",
    "                business_convention)\n",
    "            bond_helpers.append(bond_helper)"
   ]
  },
  {
   "cell_type": "code",
   "execution_count": 14,
   "metadata": {},
   "outputs": [],
   "source": [
    "rate_helpers = bond_helpers"
   ]
  },
  {
   "cell_type": "code",
   "execution_count": 15,
   "metadata": {},
   "outputs": [
    {
     "data": {
      "text/html": [
       "<div>\n",
       "<style scoped>\n",
       "    .dataframe tbody tr th:only-of-type {\n",
       "        vertical-align: middle;\n",
       "    }\n",
       "\n",
       "    .dataframe tbody tr th {\n",
       "        vertical-align: top;\n",
       "    }\n",
       "\n",
       "    .dataframe thead th {\n",
       "        text-align: right;\n",
       "    }\n",
       "</style>\n",
       "<table border=\"1\" class=\"dataframe\">\n",
       "  <thead>\n",
       "    <tr style=\"text-align: right;\">\n",
       "      <th></th>\n",
       "      <th>Maturities</th>\n",
       "      <th>Curve</th>\n",
       "    </tr>\n",
       "  </thead>\n",
       "  <tbody>\n",
       "    <tr>\n",
       "      <td></td>\n",
       "      <td>9.666667</td>\n",
       "      <td>2.782004</td>\n",
       "    </tr>\n",
       "    <tr>\n",
       "      <td></td>\n",
       "      <td>9.750000</td>\n",
       "      <td>2.784370</td>\n",
       "    </tr>\n",
       "    <tr>\n",
       "      <td></td>\n",
       "      <td>9.833333</td>\n",
       "      <td>2.786735</td>\n",
       "    </tr>\n",
       "    <tr>\n",
       "      <td></td>\n",
       "      <td>9.916667</td>\n",
       "      <td>2.789101</td>\n",
       "    </tr>\n",
       "    <tr>\n",
       "      <td></td>\n",
       "      <td>10.000000</td>\n",
       "      <td>2.791467</td>\n",
       "    </tr>\n",
       "  </tbody>\n",
       "</table>\n",
       "</div>"
      ],
      "text/plain": [
       "  Maturities     Curve\n",
       "    9.666667  2.782004\n",
       "    9.750000  2.784370\n",
       "    9.833333  2.786735\n",
       "    9.916667  2.789101\n",
       "   10.000000  2.791467"
      ]
     },
     "execution_count": 15,
     "metadata": {},
     "output_type": "execute_result"
    }
   ],
   "source": [
    "yc_linearzero = ql.PiecewiseLinearZero(\n",
    "    calc_date,rate_helpers,day_count)\n",
    "yc_cubiczero = ql.PiecewiseCubicZero(calc_date,\n",
    "                                     rate_helpers,day_count)\n",
    "splz = get_spot_rates(yc_linearzero, day_count)\n",
    "spcz = get_spot_rates(yc_cubiczero, day_count)\n",
    "splz.tail()"
   ]
  },
  {
   "cell_type": "code",
   "execution_count": 16,
   "metadata": {},
   "outputs": [
    {
     "data": {
      "text/plain": [
       "[<matplotlib.lines.Line2D at 0x121a429d0>]"
      ]
     },
     "execution_count": 16,
     "metadata": {},
     "output_type": "execute_result"
    },
    {
     "data": {
      "image/png": "[encoded data removed]",
      "text/plain": [
       "<Figure size 432x288 with 1 Axes>"
      ]
     },
     "metadata": {
      "needs_background": "light"
     },
     "output_type": "display_data"
    }
   ],
   "source": [
    "plt.plot(spcz[\"Maturities\"],spcz[\"Curve\"], label=\"CubicZero\")"
   ]
  },
  {
   "cell_type": "code",
   "execution_count": 2,
   "metadata": {},
   "outputs": [],
   "source": [
    "import scipy.optimize as opt"
   ]
  },
  {
   "cell_type": "code",
   "execution_count": 6,
   "metadata": {},
   "outputs": [
    {
     "ename": "TypeError",
     "evalue": "f() missing 4 required positional arguments: 'a', 'b', 'c', and 'd'",
     "output_type": "error",
     "traceback": [
      "\u001b[0;31m---------------------------------------------------------------\u001b[0m",
      "\u001b[0;31mTypeError\u001b[0m                     Traceback (most recent call last)",
      "\u001b[0;32m<ipython-input-6-db9bd30ce59b>\u001b[0m in \u001b[0;36m<module>\u001b[0;34m\u001b[0m\n\u001b[1;32m      7\u001b[0m \u001b[0;34m\u001b[0m\u001b[0m\n\u001b[1;32m      8\u001b[0m \u001b[0;34m\u001b[0m\u001b[0m\n\u001b[0;32m----> 9\u001b[0;31m \u001b[0mopt\u001b[0m\u001b[0;34m.\u001b[0m\u001b[0mnewton\u001b[0m\u001b[0;34m(\u001b[0m\u001b[0mour_f\u001b[0m\u001b[0;34m,\u001b[0m \u001b[0mx0\u001b[0m\u001b[0;34m=\u001b[0m\u001b[0;36m2\u001b[0m\u001b[0;34m)\u001b[0m\u001b[0;34m\u001b[0m\u001b[0;34m\u001b[0m\u001b[0m\n\u001b[0m",
      "\u001b[0;32m~/anaconda3/envs/cnn/lib/python3.6/site-packages/scipy/optimize/zeros.py\u001b[0m in \u001b[0;36mnewton\u001b[0;34m(func, x0, fprime, args, tol, maxiter, fprime2)\u001b[0m\n\u001b[1;32m    187\u001b[0m         \u001b[0;32melse\u001b[0m\u001b[0;34m:\u001b[0m\u001b[0;34m\u001b[0m\u001b[0;34m\u001b[0m\u001b[0m\n\u001b[1;32m    188\u001b[0m             \u001b[0mp1\u001b[0m \u001b[0;34m=\u001b[0m \u001b[0mx0\u001b[0m\u001b[0;34m*\u001b[0m\u001b[0;34m(\u001b[0m\u001b[0;36m1\u001b[0m \u001b[0;34m+\u001b[0m \u001b[0;36m1e-4\u001b[0m\u001b[0;34m)\u001b[0m \u001b[0;34m-\u001b[0m \u001b[0;36m1e-4\u001b[0m\u001b[0;34m\u001b[0m\u001b[0;34m\u001b[0m\u001b[0m\n\u001b[0;32m--> 189\u001b[0;31m         \u001b[0mq0\u001b[0m \u001b[0;34m=\u001b[0m \u001b[0mfunc\u001b[0m\u001b[0;34m(\u001b[0m\u001b[0mp0\u001b[0m\u001b[0;34m,\u001b[0m \u001b[0;34m*\u001b[0m\u001b[0margs\u001b[0m\u001b[0;34m)\u001b[0m\u001b[0;34m\u001b[0m\u001b[0;34m\u001b[0m\u001b[0m\n\u001b[0m\u001b[1;32m    190\u001b[0m         \u001b[0mq1\u001b[0m \u001b[0;34m=\u001b[0m \u001b[0mfunc\u001b[0m\u001b[0;34m(\u001b[0m\u001b[0mp1\u001b[0m\u001b[0;34m,\u001b[0m \u001b[0;34m*\u001b[0m\u001b[0margs\u001b[0m\u001b[0;34m)\u001b[0m\u001b[0;34m\u001b[0m\u001b[0;34m\u001b[0m\u001b[0m\n\u001b[1;32m    191\u001b[0m         \u001b[0;32mfor\u001b[0m \u001b[0miter\u001b[0m \u001b[0;32min\u001b[0m \u001b[0mrange\u001b[0m\u001b[0;34m(\u001b[0m\u001b[0mmaxiter\u001b[0m\u001b[0;34m)\u001b[0m\u001b[0;34m:\u001b[0m\u001b[0;34m\u001b[0m\u001b[0;34m\u001b[0m\u001b[0m\n",
      "\u001b[0;31mTypeError\u001b[0m: f() missing 4 required positional arguments: 'a', 'b', 'c', and 'd'"
     ]
    }
   ],
   "source": [
    "\n",
    "def make_f(t_step):\n",
    "    def f(t,a,b,c,d):\n",
    "        return a + b * (t - t_step) + c * (t - t_step)**2 + d*(t - t_step)**3\n",
    "    return f\n",
    "our_f = make_f(2)\n",
    "\n",
    "\n",
    "opt.newton(our_f, x0=2)\n"
   ]
  },
  {
   "cell_type": "code",
   "execution_count": 10,
   "metadata": {},
   "outputs": [
    {
     "data": {
      "text/plain": [
       "array([[-0.40283087,  2.1768882 ,  3.27977464],\n",
       "       [ 0.49683298,  1.71040991,  3.44508717],\n",
       "       [ 4.15925125,  1.0566599 ,  3.22924731],\n",
       "       [-0.31817554,  2.67458118,  1.8466199 ],\n",
       "       [ 2.20607664,  3.01918203,  4.29572403],\n",
       "       [ 1.30910836,  0.96554828,  1.59998377],\n",
       "       [ 0.52070162,  0.57211832,  2.89580723],\n",
       "       [-0.77373846,  0.47648246,  2.17940916],\n",
       "       [ 1.62947619,  1.76761722,  3.24965573],\n",
       "       [ 0.56386375,  2.64598322,  2.56952336]])"
      ]
     },
     "execution_count": 10,
     "metadata": {},
     "output_type": "execute_result"
    }
   ],
   "source": [
    "import numpy as np\n",
    "np.random.normal(loc=[1,2,3],size=(10,3))"
   ]
  },
  {
   "cell_type": "code",
   "execution_count": 11,
   "metadata": {},
   "outputs": [],
   "source": [
    "import pandas as pd\n"
   ]
  },
  {
   "cell_type": "code",
   "execution_count": 12,
   "metadata": {},
   "outputs": [
    {
     "data": {
      "text/plain": [
       "[         Дата  1 день  1 нед.  2 нед.  1 мес.  2 мес.  3 мес.  6 мес.\n",
       " 0  17.01.2020     630     638     640     642     643     645     647\n",
       " 1  16.01.2020     633     638     640     643     643     647     648\n",
       " 2  15.01.2020     633     638     639     643     644     647     648\n",
       " 3  14.01.2020     633     638     639     643     644     647     648\n",
       " 4  13.01.2020     637     639     640     642     643     645     648\n",
       " 5  10.01.2020     636     643     641     641     641     643     648]"
      ]
     },
     "execution_count": 12,
     "metadata": {},
     "output_type": "execute_result"
    }
   ],
   "source": [
    "pd.read_html('https://www.cbr.ru/hd_base/mosprime/')"
   ]
  },
  {
   "cell_type": "code",
   "execution_count": 45,
   "metadata": {},
   "outputs": [],
   "source": [
    "fx_raw = pd.read_html('./fx_rates.html')[0]\n",
    "fx_raw.columns = [', '.join(x[1:]) for x in fx_raw.columns]\n",
    "fx=fx_raw.iloc[:,[0,3]]\n",
    "fx.columns = ['date','fx_rate']\n",
    "fx.loc[:,'date']=pd.to_datetime(fx['date'], format=\"%d/%m/%Y\")\n",
    "fx=fx.sort_values(by='date').reset_index(drop=True)"
   ]
  },
  {
   "cell_type": "code",
   "execution_count": 46,
   "metadata": {},
   "outputs": [],
   "source": [
    "rub_irs_raw = pd.read_excel('ROISfix history.xlsx')\n",
    "rub_irs=rub_irs_raw.loc[:,['Дата ставки','3M']]\n",
    "rub_irs.columns=['date','rub_rate']\n",
    "rub_irs.loc[:,'date'] = pd.to_datetime(rub_irs['date'], format=\"%d-%m-%Y\")\n",
    "rub_irs = rub_irs.sort_values(by='date').reset_index(drop=True)"
   ]
  },
  {
   "cell_type": "code",
   "execution_count": 48,
   "metadata": {},
   "outputs": [],
   "source": [
    "usd_irs_raw = pd.read_excel('./LIBOR USD history.xlsx')\n",
    "usd_irs=usd_irs_raw.loc[:,['Date','3M']]\n",
    "usd_irs.columns=['date','usd_rate']\n",
    "usd_irs.loc[:,'date'] = pd.to_datetime(usd_irs['date'], format=\"%d.%m.%Y\")\n",
    "\n",
    "usd_irs = usd_irs.sort_values(by='date').reset_index(drop=True)"
   ]
  },
  {
   "cell_type": "code",
   "execution_count": 49,
   "metadata": {},
   "outputs": [],
   "source": [
    "mrg = pd.merge(\n",
    "    fx,\n",
    "    pd.merge(\n",
    "        rub_irs,\n",
    "        usd_irs,\n",
    "        left_on='date',\n",
    "        right_on='date',\n",
    "        how='outer'\n",
    "\n",
    "    ),\n",
    "    left_on='date',\n",
    "    right_on='date',\n",
    "    how='outer'\n",
    ")"
   ]
  },
  {
   "cell_type": "code",
   "execution_count": 78,
   "metadata": {},
   "outputs": [],
   "source": [
    "# import seaborn as sns\n",
    "# import matplotlib.pyplot as plt\n",
    "import numpy.linalg as linalg\n",
    "# sns.heatmap(mrg.sort_values('date').isna())\n",
    "# mrg.index = mrg['date']\n",
    "\n",
    "decomposed_cov = linalg.cholesky(mrg.interpolate(method='linear').iloc[3:,1:].cov())\n",
    "decomposed_cor = linalg.cholesky(mrg.interpolate(method='linear').iloc[3:,1:].corr())\n",
    "decomposed_df_cov = linalg.cholesky(mrg.interpolate(method='linear').iloc[3:,1:].diff().iloc[1:].cov())\n",
    "decomposed_df_cor = linalg.cholesky(mrg.interpolate(method='linear').iloc[3:,1:].diff().iloc[1:].corr())\n"
   ]
  },
  {
   "cell_type": "code",
   "execution_count": 69,
   "metadata": {},
   "outputs": [
    {
     "data": {
      "text/html": [
       "<div>\n",
       "<style scoped>\n",
       "    .dataframe tbody tr th:only-of-type {\n",
       "        vertical-align: middle;\n",
       "    }\n",
       "\n",
       "    .dataframe tbody tr th {\n",
       "        vertical-align: top;\n",
       "    }\n",
       "\n",
       "    .dataframe thead th {\n",
       "        text-align: right;\n",
       "    }\n",
       "</style>\n",
       "<table border=\"1\" class=\"dataframe\">\n",
       "  <thead>\n",
       "    <tr style=\"text-align: right;\">\n",
       "      <th></th>\n",
       "      <th>fx_rate</th>\n",
       "      <th>rub_rate</th>\n",
       "      <th>usd_rate</th>\n",
       "    </tr>\n",
       "  </thead>\n",
       "  <tbody>\n",
       "    <tr>\n",
       "      <th>fx_rate</th>\n",
       "      <td>0.000000e+00</td>\n",
       "      <td>0.000000e+00</td>\n",
       "      <td>-2.775558e-17</td>\n",
       "    </tr>\n",
       "    <tr>\n",
       "      <th>rub_rate</th>\n",
       "      <td>0.000000e+00</td>\n",
       "      <td>0.000000e+00</td>\n",
       "      <td>2.775558e-17</td>\n",
       "    </tr>\n",
       "    <tr>\n",
       "      <th>usd_rate</th>\n",
       "      <td>-2.775558e-17</td>\n",
       "      <td>2.775558e-17</td>\n",
       "      <td>0.000000e+00</td>\n",
       "    </tr>\n",
       "  </tbody>\n",
       "</table>\n",
       "</div>"
      ],
      "text/plain": [
       "               fx_rate      rub_rate      usd_rate\n",
       "fx_rate   0.000000e+00  0.000000e+00 -2.775558e-17\n",
       "rub_rate  0.000000e+00  0.000000e+00  2.775558e-17\n",
       "usd_rate -2.775558e-17  2.775558e-17  0.000000e+00"
      ]
     },
     "execution_count": 69,
     "metadata": {},
     "output_type": "execute_result"
    }
   ],
   "source": [
    "decomposed*np.matrix(decomposed).H\n",
    "mrg.interpolate(method='linear').iloc[3:,1:].cov()\n"
   ]
  },
  {
   "cell_type": "code",
   "execution_count": 79,
   "metadata": {},
   "outputs": [
    {
     "data": {
      "text/plain": [
       "(array([[1.        , 0.        , 0.        ],\n",
       "        [0.66199483, 0.74950841, 0.        ],\n",
       "        [0.48107551, 0.69729447, 0.53136314]]),\n",
       " array([[ 1.        ,  0.        ,  0.        ],\n",
       "        [ 0.08370562,  0.99649053,  0.        ],\n",
       "        [-0.00464425, -0.1941014 ,  0.98097048]]))"
      ]
     },
     "execution_count": 79,
     "metadata": {},
     "output_type": "execute_result"
    }
   ],
   "source": [
    "decomposed_cor, decomposed_df_cor"
   ]
  },
  {
   "cell_type": "code",
   "execution_count": 80,
   "metadata": {},
   "outputs": [],
   "source": [
    "pd.DataFrame(decomposed_df_cov).to_pickle('./decomposed_cov.pkl')\n",
    "pd.DataFrame(decomposed_df_cor).to_pickle('./decomposed_cor.pkl')"
   ]
  },
  {
   "cell_type": "code",
   "execution_count": 73,
   "metadata": {},
   "outputs": [
    {
     "data": {
      "text/html": [
       "<div>\n",
       "<style scoped>\n",
       "    .dataframe tbody tr th:only-of-type {\n",
       "        vertical-align: middle;\n",
       "    }\n",
       "\n",
       "    .dataframe tbody tr th {\n",
       "        vertical-align: top;\n",
       "    }\n",
       "\n",
       "    .dataframe thead th {\n",
       "        text-align: right;\n",
       "    }\n",
       "</style>\n",
       "<table border=\"1\" class=\"dataframe\">\n",
       "  <thead>\n",
       "    <tr style=\"text-align: right;\">\n",
       "      <th></th>\n",
       "      <th>date</th>\n",
       "      <th>fx_rate</th>\n",
       "    </tr>\n",
       "  </thead>\n",
       "  <tbody>\n",
       "    <tr>\n",
       "      <th>0</th>\n",
       "      <td>2019-01-03</td>\n",
       "      <td>69.0424</td>\n",
       "    </tr>\n",
       "    <tr>\n",
       "      <th>1</th>\n",
       "      <td>2019-01-04</td>\n",
       "      <td>68.0103</td>\n",
       "    </tr>\n",
       "    <tr>\n",
       "      <th>2</th>\n",
       "      <td>2019-01-08</td>\n",
       "      <td>67.0232</td>\n",
       "    </tr>\n",
       "    <tr>\n",
       "      <th>3</th>\n",
       "      <td>2019-01-09</td>\n",
       "      <td>66.9983</td>\n",
       "    </tr>\n",
       "    <tr>\n",
       "      <th>4</th>\n",
       "      <td>2019-01-10</td>\n",
       "      <td>67.0305</td>\n",
       "    </tr>\n",
       "    <tr>\n",
       "      <th>...</th>\n",
       "      <td>...</td>\n",
       "      <td>...</td>\n",
       "    </tr>\n",
       "    <tr>\n",
       "      <th>256</th>\n",
       "      <td>2020-01-10</td>\n",
       "      <td>61.2182</td>\n",
       "    </tr>\n",
       "    <tr>\n",
       "      <th>257</th>\n",
       "      <td>2020-01-13</td>\n",
       "      <td>61.1060</td>\n",
       "    </tr>\n",
       "    <tr>\n",
       "      <th>258</th>\n",
       "      <td>2020-01-14</td>\n",
       "      <td>61.4044</td>\n",
       "    </tr>\n",
       "    <tr>\n",
       "      <th>259</th>\n",
       "      <td>2020-01-15</td>\n",
       "      <td>61.5240</td>\n",
       "    </tr>\n",
       "    <tr>\n",
       "      <th>260</th>\n",
       "      <td>2020-01-16</td>\n",
       "      <td>61.6312</td>\n",
       "    </tr>\n",
       "  </tbody>\n",
       "</table>\n",
       "<p>261 rows × 2 columns</p>\n",
       "</div>"
      ],
      "text/plain": [
       "          date  fx_rate\n",
       "0   2019-01-03  69.0424\n",
       "1   2019-01-04  68.0103\n",
       "2   2019-01-08  67.0232\n",
       "3   2019-01-09  66.9983\n",
       "4   2019-01-10  67.0305\n",
       "..         ...      ...\n",
       "256 2020-01-10  61.2182\n",
       "257 2020-01-13  61.1060\n",
       "258 2020-01-14  61.4044\n",
       "259 2020-01-15  61.5240\n",
       "260 2020-01-16  61.6312\n",
       "\n",
       "[261 rows x 2 columns]"
      ]
     },
     "execution_count": 73,
     "metadata": {},
     "output_type": "execute_result"
    }
   ],
   "source": [
    "fxsigma=0.03\n"
   ]
  },
  {
   "cell_type": "code",
   "execution_count": null,
   "metadata": {},
   "outputs": [],
   "source": []
  }
 ],
 "metadata": {
  "kernelspec": {
   "display_name": "Python [default]",
   "language": "python",
   "name": "python3"
  },
  "language_info": {
   "codemirror_mode": {
    "name": "ipython",
    "version": 3
   },
   "file_extension": ".py",
   "mimetype": "text/x-python",
   "name": "python",
   "nbconvert_exporter": "python",
   "pygments_lexer": "ipython3",
   "version": "3.6.7"
  }
 },
 "nbformat": 4,
 "nbformat_minor": 4
}
